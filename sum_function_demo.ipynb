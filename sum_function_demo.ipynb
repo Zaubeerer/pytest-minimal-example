{
 "cells": [
  {
   "cell_type": "markdown",
   "id": "e72d58c8",
   "metadata": {},
   "source": [
    "# Sum Function Demonstration Notebook\n",
    "\n",
    "This notebook demonstrates the `sum_objects` function from our `lib` module. The notebook is designed to be tested using `pytest-nbval`, which validates that notebook cells execute successfully and produce expected outputs.\n",
    "\n",
    "## Overview\n",
    "\n",
    "The `sum_objects` function can handle different data types:\n",
    "- Integers and floats (arithmetic addition)\n",
    "- Strings (concatenation)\n",
    "- Lists (concatenation)\n",
    "\n",
    "This notebook will demonstrate each of these use cases with predictable outputs that can be validated by pytest-nbval."
   ]
  },
  {
   "cell_type": "markdown",
   "id": "2ea2e958",
   "metadata": {},
   "source": [
    "## 1. Import Required Libraries\n",
    "\n",
    "First, let's import the necessary libraries and the sum_objects function from our lib module."
   ]
  },
  {
   "cell_type": "code",
   "execution_count": 1,
   "id": "f6246589",
   "metadata": {},
   "outputs": [
    {
     "name": "stdout",
     "output_type": "stream",
     "text": [
      "Python version: 3.13.0 (main, Oct 16 2024, 08:05:40) [Clang 18.1.8 ]\n",
      "Successfully imported sum_objects function!\n"
     ]
    }
   ],
   "source": [
    "# Import the sum_objects function from our lib module\n",
    "from lib import sum_objects\n",
    "\n",
    "# Let's also import some additional libraries for demonstration\n",
    "import sys\n",
    "print(f\"Python version: {sys.version}\")\n",
    "print(\"Successfully imported sum_objects function!\")"
   ]
  },
  {
   "cell_type": "markdown",
   "id": "ccd95912",
   "metadata": {},
   "source": [
    "## 2. Basic Sum Function Usage\n",
    "\n",
    "Let's start with simple examples using integers. These cells will have predictable outputs that pytest-nbval can validate."
   ]
  },
  {
   "cell_type": "code",
   "execution_count": 2,
   "id": "41de6e63",
   "metadata": {},
   "outputs": [
    {
     "name": "stdout",
     "output_type": "stream",
     "text": [
      "sum_objects(5, 3) = 8\n",
      "sum_objects(10, 0) = 10\n",
      "sum_objects(-5, 8) = 3\n",
      "All basic integer tests passed!\n"
     ]
    }
   ],
   "source": [
    "# Basic integer addition\n",
    "result1 = sum_objects(5, 3)\n",
    "print(f\"sum_objects(5, 3) = {result1}\")\n",
    "\n",
    "# Test with zero (identity property)\n",
    "result2 = sum_objects(10, 0)\n",
    "print(f\"sum_objects(10, 0) = {result2}\")\n",
    "\n",
    "# Test with negative numbers\n",
    "result3 = sum_objects(-5, 8)\n",
    "print(f\"sum_objects(-5, 8) = {result3}\")\n",
    "\n",
    "# Verify results\n",
    "assert result1 == 8\n",
    "assert result2 == 10\n",
    "assert result3 == 3\n",
    "print(\"All basic integer tests passed!\")"
   ]
  },
  {
   "cell_type": "markdown",
   "id": "7b0318ed",
   "metadata": {},
   "source": [
    "## 3. Testing with Different Data Types\n",
    "\n",
    "The sum_objects function works with various data types. Let's test with floats, strings, and lists."
   ]
  },
  {
   "cell_type": "code",
   "execution_count": 3,
   "id": "68d9af4d",
   "metadata": {},
   "outputs": [
    {
     "name": "stdout",
     "output_type": "stream",
     "text": [
      "sum_objects(3.14, 2.86) = 6.0\n",
      "sum_objects(\"Hello, \", \"World!\") = \"Hello, World!\"\n",
      "sum_objects([1, 2, 3], [4, 5, 6]) = [1, 2, 3, 4, 5, 6]\n",
      "All data type tests passed!\n"
     ]
    }
   ],
   "source": [
    "# Test with floats\n",
    "float_result = sum_objects(3.14, 2.86)\n",
    "print(f\"sum_objects(3.14, 2.86) = {float_result}\")\n",
    "\n",
    "# Test with strings (concatenation)\n",
    "string_result = sum_objects(\"Hello, \", \"World!\")\n",
    "print(f'sum_objects(\"Hello, \", \"World!\") = \"{string_result}\"')\n",
    "\n",
    "# Test with lists (concatenation)\n",
    "list_result = sum_objects([1, 2, 3], [4, 5, 6])\n",
    "print(f\"sum_objects([1, 2, 3], [4, 5, 6]) = {list_result}\")\n",
    "\n",
    "# Verify results with assertions\n",
    "assert abs(float_result - 6.0) < 1e-10  # Handle floating point precision\n",
    "assert string_result == \"Hello, World!\"\n",
    "assert list_result == [1, 2, 3, 4, 5, 6]\n",
    "print(\"All data type tests passed!\")"
   ]
  },
  {
   "cell_type": "markdown",
   "id": "ab83da12",
   "metadata": {},
   "source": [
    "## 4. Mathematical Properties\n",
    "\n",
    "Let's verify some mathematical properties of addition that should hold true for our sum_objects function."
   ]
  },
  {
   "cell_type": "code",
   "execution_count": 4,
   "id": "e740f5e0",
   "metadata": {},
   "outputs": [
    {
     "name": "stdout",
     "output_type": "stream",
     "text": [
      "Commutative test: sum_objects(7, 13) = 20\n",
      "Commutative test: sum_objects(13, 7) = 20\n",
      "Are they equal? True\n",
      "\n",
      "Associative test: (2 + 5) + 8 = 15\n",
      "Associative test: 2 + (5 + 8) = 15\n",
      "Are they equal? True\n",
      "\n",
      "All mathematical property tests passed!\n"
     ]
    }
   ],
   "source": [
    "# Test commutative property: a + b = b + a\n",
    "a, b = 7, 13\n",
    "commutative_test1 = sum_objects(a, b)\n",
    "commutative_test2 = sum_objects(b, a)\n",
    "print(f\"Commutative test: sum_objects({a}, {b}) = {commutative_test1}\")\n",
    "print(f\"Commutative test: sum_objects({b}, {a}) = {commutative_test2}\")\n",
    "print(f\"Are they equal? {commutative_test1 == commutative_test2}\")\n",
    "\n",
    "# Test associative property: (a + b) + c = a + (b + c)\n",
    "a, b, c = 2, 5, 8\n",
    "associative_test1 = sum_objects(sum_objects(a, b), c)\n",
    "associative_test2 = sum_objects(a, sum_objects(b, c))\n",
    "print(f\"\\nAssociative test: ({a} + {b}) + {c} = {associative_test1}\")\n",
    "print(f\"Associative test: {a} + ({b} + {c}) = {associative_test2}\")\n",
    "print(f\"Are they equal? {associative_test1 == associative_test2}\")\n",
    "\n",
    "# Verify with assertions\n",
    "assert commutative_test1 == commutative_test2 == 20\n",
    "assert associative_test1 == associative_test2 == 15\n",
    "print(\"\\nAll mathematical property tests passed!\")"
   ]
  },
  {
   "cell_type": "markdown",
   "id": "985dd7ec",
   "metadata": {},
   "source": [
    "## 5. Testing with pytest-nbval\n",
    "\n",
    "This notebook is designed to be tested using pytest-nbval. All cells above contain deterministic outputs that can be validated. To test this notebook, run:\n",
    "\n",
    "```bash\n",
    "pytest --nbval sum_function_demo.ipynb\n",
    "```\n",
    "\n",
    "The pytest-nbval plugin will:\n",
    "1. Execute each code cell in the notebook\n",
    "2. Compare the actual output with the stored output\n",
    "3. Report any differences as test failures\n",
    "\n",
    "This ensures that the notebook continues to work correctly as the codebase evolves."
   ]
  },
  {
   "cell_type": "code",
   "execution_count": 6,
   "id": "15eb2030",
   "metadata": {},
   "outputs": [
    {
     "name": "stdout",
     "output_type": "stream",
     "text": [
      "🎉 Notebook execution completed successfully!\n",
      "\n",
      "Summary of tests performed:\n",
      "✅ Basic integer addition\n",
      "✅ Identity property (adding zero)\n",
      "✅ Negative number handling\n",
      "✅ Float addition\n",
      "✅ String concatenation\n",
      "✅ List concatenation\n",
      "✅ Commutative property\n",
      "✅ Associative property\n",
      "\n",
      "This notebook is ready for pytest-nbval testing!\n"
     ]
    }
   ],
   "source": [
    "# Final summary\n",
    "print(\"🎉 Notebook execution completed successfully!\")\n",
    "print(\"\\nSummary of tests performed:\")\n",
    "print(\"✅ Basic integer addition\")\n",
    "print(\"✅ Identity property (adding zero)\")\n",
    "print(\"✅ Negative number handling\")\n",
    "print(\"✅ Float addition\")\n",
    "print(\"✅ String concatenation\")\n",
    "print(\"✅ List concatenation\")\n",
    "print(\"✅ Commutative property\")\n",
    "print(\"✅ Associative property\")\n",
    "print(\"\\nThis notebook is ready for pytest-nbval testing!\")"
   ]
  }
 ],
 "metadata": {
  "kernelspec": {
   "display_name": "pytest-minimal-example",
   "language": "python",
   "name": "python3"
  },
  "language_info": {
   "codemirror_mode": {
    "name": "ipython",
    "version": 3
   },
   "file_extension": ".py",
   "mimetype": "text/x-python",
   "name": "python",
   "nbconvert_exporter": "python",
   "pygments_lexer": "ipython3",
   "version": "3.13.0"
  }
 },
 "nbformat": 4,
 "nbformat_minor": 5
}
